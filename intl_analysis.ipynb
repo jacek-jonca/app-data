{
 "cells": [
  {
   "cell_type": "code",
   "execution_count": 1,
   "metadata": {
    "collapsed": true
   },
   "outputs": [],
   "source": [
    "import pandas as pd\n",
    "import re\n",
    "from datetime import datetime\n",
    "from dateutil.parser import parse\n",
    "import missingno as msno\n",
    "import numpy as np\n",
    "import seaborn as sb\n",
    "import matplotlib.pyplot as plt\n",
    "import json"
   ]
  },
  {
   "cell_type": "code",
   "execution_count": 10,
   "metadata": {
    "collapsed": true
   },
   "outputs": [],
   "source": [
    "inspect_df = pd.read_csv('2015-2020-apps-intl.csv')"
   ]
  },
  {
   "cell_type": "code",
   "execution_count": 17,
   "metadata": {},
   "outputs": [
    {
     "output_type": "execute_result",
     "data": {
      "text/plain": [
       "STU_ID                      object\n",
       "BDAY                datetime64[ns]\n",
       "COLLEGE                     object\n",
       "DEGREE                      object\n",
       "MAJOR                       object\n",
       "LEGAL_NATN                  object\n",
       "STREET_LINES_1_2            object\n",
       "CITY_STATE_ZIP              object\n",
       "ZIP                         object\n",
       "dtype: object"
      ]
     },
     "metadata": {},
     "execution_count": 17
    }
   ],
   "source": [
    "inspect_df.dtypes"
   ]
  },
  {
   "cell_type": "code",
   "execution_count": 15,
   "metadata": {
    "collapsed": true
   },
   "outputs": [],
   "source": [
    "def dateobj(str):\n",
    "    return datetime.strptime(str, '%m/%d/%Y')"
   ]
  },
  {
   "cell_type": "code",
   "execution_count": 16,
   "metadata": {
    "collapsed": true
   },
   "outputs": [],
   "source": [
    "inspect_df['BDAY'] = inspect_df['BDAY'].apply(dateobj)"
   ]
  },
  {
   "cell_type": "code",
   "execution_count": 18,
   "metadata": {},
   "outputs": [
    {
     "output_type": "execute_result",
     "data": {
      "text/plain": [
       "      STU_ID       BDAY COLLEGE DEGREE MAJOR LEGAL_NATN  \\\n",
       "0  A04188656 1997-03-15      SE     MS  COSC      India   \n",
       "1  A04151230 1992-09-01      BU    MBA  BUSI   Pakistan   \n",
       "2  A04151230 1992-09-01      BU    MBA  BUSI   Pakistan   \n",
       "3  A04051997 1986-12-01      SE     MS  COSC       Iran   \n",
       "4  A03988744 1987-06-14      SE     MS  COSC      India   \n",
       "\n",
       "                                 STREET_LINES_1_2  \\\n",
       "0                         7350 McArdle Rd Apt 86    \n",
       "1                     House 3 51 Street 35 F-6/1    \n",
       "2                     House 3 51 Street 35 F-6/1    \n",
       "3  No.38, Farimah Str.,Hellal Ahmar Sq Jahanshahr   \n",
       "4    #2005, 8th Main, 2nd Stage Kumarswamy Layout   \n",
       "\n",
       "                  CITY_STATE_ZIP         ZIP  \n",
       "0  Corpus Christi, TX 78412-4234  78412-4234  \n",
       "1               Islamabad, 44000       44000  \n",
       "2               Islamabad, 44000       44000  \n",
       "3              Karaj, 3144753838  3144753838  \n",
       "4              Bangalore, 560078      560078  "
      ],
      "text/html": "<div>\n<style scoped>\n    .dataframe tbody tr th:only-of-type {\n        vertical-align: middle;\n    }\n\n    .dataframe tbody tr th {\n        vertical-align: top;\n    }\n\n    .dataframe thead th {\n        text-align: right;\n    }\n</style>\n<table border=\"1\" class=\"dataframe\">\n  <thead>\n    <tr style=\"text-align: right;\">\n      <th></th>\n      <th>STU_ID</th>\n      <th>BDAY</th>\n      <th>COLLEGE</th>\n      <th>DEGREE</th>\n      <th>MAJOR</th>\n      <th>LEGAL_NATN</th>\n      <th>STREET_LINES_1_2</th>\n      <th>CITY_STATE_ZIP</th>\n      <th>ZIP</th>\n    </tr>\n  </thead>\n  <tbody>\n    <tr>\n      <th>0</th>\n      <td>A04188656</td>\n      <td>1997-03-15</td>\n      <td>SE</td>\n      <td>MS</td>\n      <td>COSC</td>\n      <td>India</td>\n      <td>7350 McArdle Rd Apt 86</td>\n      <td>Corpus Christi, TX 78412-4234</td>\n      <td>78412-4234</td>\n    </tr>\n    <tr>\n      <th>1</th>\n      <td>A04151230</td>\n      <td>1992-09-01</td>\n      <td>BU</td>\n      <td>MBA</td>\n      <td>BUSI</td>\n      <td>Pakistan</td>\n      <td>House 3 51 Street 35 F-6/1</td>\n      <td>Islamabad, 44000</td>\n      <td>44000</td>\n    </tr>\n    <tr>\n      <th>2</th>\n      <td>A04151230</td>\n      <td>1992-09-01</td>\n      <td>BU</td>\n      <td>MBA</td>\n      <td>BUSI</td>\n      <td>Pakistan</td>\n      <td>House 3 51 Street 35 F-6/1</td>\n      <td>Islamabad, 44000</td>\n      <td>44000</td>\n    </tr>\n    <tr>\n      <th>3</th>\n      <td>A04051997</td>\n      <td>1986-12-01</td>\n      <td>SE</td>\n      <td>MS</td>\n      <td>COSC</td>\n      <td>Iran</td>\n      <td>No.38, Farimah Str.,Hellal Ahmar Sq Jahanshahr</td>\n      <td>Karaj, 3144753838</td>\n      <td>3144753838</td>\n    </tr>\n    <tr>\n      <th>4</th>\n      <td>A03988744</td>\n      <td>1987-06-14</td>\n      <td>SE</td>\n      <td>MS</td>\n      <td>COSC</td>\n      <td>India</td>\n      <td>#2005, 8th Main, 2nd Stage Kumarswamy Layout</td>\n      <td>Bangalore, 560078</td>\n      <td>560078</td>\n    </tr>\n  </tbody>\n</table>\n</div>"
     },
     "metadata": {},
     "execution_count": 18
    }
   ],
   "source": [
    "inspect_df.head()"
   ]
  },
  {
   "cell_type": "code",
   "execution_count": 19,
   "metadata": {},
   "outputs": [
    {
     "output_type": "execute_result",
     "data": {
      "text/plain": [
       "(3763, 9)"
      ]
     },
     "metadata": {},
     "execution_count": 19
    }
   ],
   "source": [
    "inspect_df.shape"
   ]
  },
  {
   "cell_type": "code",
   "execution_count": 20,
   "metadata": {
    "collapsed": true
   },
   "outputs": [],
   "source": [
    "inspect_places = inspect_df['STU_ID'].unique()"
   ]
  },
  {
   "cell_type": "code",
   "execution_count": 75,
   "metadata": {},
   "outputs": [
    {
     "output_type": "execute_result",
     "data": {
      "text/plain": [
       "         country  count\n",
       "0          India   1682\n",
       "1        Vietnam    379\n",
       "2        Nigeria    271\n",
       "3          China    182\n",
       "4   Saudi Arabia    126\n",
       "5         Mexico    102\n",
       "6       Pakistan     79\n",
       "7         Canada     65\n",
       "8           Iran     50\n",
       "9       Colombia     42\n",
       "10        Turkey     39\n",
       "11    Bangladesh     38\n",
       "12   Philippines     37\n",
       "13   South Korea     31\n",
       "14         Nepal     29"
      ],
      "text/html": "<div>\n<style scoped>\n    .dataframe tbody tr th:only-of-type {\n        vertical-align: middle;\n    }\n\n    .dataframe tbody tr th {\n        vertical-align: top;\n    }\n\n    .dataframe thead th {\n        text-align: right;\n    }\n</style>\n<table border=\"1\" class=\"dataframe\">\n  <thead>\n    <tr style=\"text-align: right;\">\n      <th></th>\n      <th>country</th>\n      <th>count</th>\n    </tr>\n  </thead>\n  <tbody>\n    <tr>\n      <th>0</th>\n      <td>India</td>\n      <td>1682</td>\n    </tr>\n    <tr>\n      <th>1</th>\n      <td>Vietnam</td>\n      <td>379</td>\n    </tr>\n    <tr>\n      <th>2</th>\n      <td>Nigeria</td>\n      <td>271</td>\n    </tr>\n    <tr>\n      <th>3</th>\n      <td>China</td>\n      <td>182</td>\n    </tr>\n    <tr>\n      <th>4</th>\n      <td>Saudi Arabia</td>\n      <td>126</td>\n    </tr>\n    <tr>\n      <th>5</th>\n      <td>Mexico</td>\n      <td>102</td>\n    </tr>\n    <tr>\n      <th>6</th>\n      <td>Pakistan</td>\n      <td>79</td>\n    </tr>\n    <tr>\n      <th>7</th>\n      <td>Canada</td>\n      <td>65</td>\n    </tr>\n    <tr>\n      <th>8</th>\n      <td>Iran</td>\n      <td>50</td>\n    </tr>\n    <tr>\n      <th>9</th>\n      <td>Colombia</td>\n      <td>42</td>\n    </tr>\n    <tr>\n      <th>10</th>\n      <td>Turkey</td>\n      <td>39</td>\n    </tr>\n    <tr>\n      <th>11</th>\n      <td>Bangladesh</td>\n      <td>38</td>\n    </tr>\n    <tr>\n      <th>12</th>\n      <td>Philippines</td>\n      <td>37</td>\n    </tr>\n    <tr>\n      <th>13</th>\n      <td>South Korea</td>\n      <td>31</td>\n    </tr>\n    <tr>\n      <th>14</th>\n      <td>Nepal</td>\n      <td>29</td>\n    </tr>\n  </tbody>\n</table>\n</div>"
     },
     "metadata": {},
     "execution_count": 75
    }
   ],
   "source": [
    "# those are counts for all US\n",
    "inspect_df['LEGAL_NATN'].value_counts().nlargest(31)\n",
    "producers_df = inspect_df['LEGAL_NATN'].value_counts().rename_axis('country').reset_index(name='count')\n",
    "producers_df.head(15)"
   ]
  },
  {
   "cell_type": "code",
   "execution_count": 60,
   "metadata": {},
   "outputs": [
    {
     "output_type": "execute_result",
     "data": {
      "text/plain": [
       "                     country  count\n",
       "104                 Portugal      1\n",
       "105                  Senegal      1\n",
       "106  French Southern/Antarct      1\n",
       "107                   Rwanda      1\n",
       "108                  Bahamas      1"
      ],
      "text/html": "<div>\n<style scoped>\n    .dataframe tbody tr th:only-of-type {\n        vertical-align: middle;\n    }\n\n    .dataframe tbody tr th {\n        vertical-align: top;\n    }\n\n    .dataframe thead th {\n        text-align: right;\n    }\n</style>\n<table border=\"1\" class=\"dataframe\">\n  <thead>\n    <tr style=\"text-align: right;\">\n      <th></th>\n      <th>country</th>\n      <th>count</th>\n    </tr>\n  </thead>\n  <tbody>\n    <tr>\n      <th>104</th>\n      <td>Portugal</td>\n      <td>1</td>\n    </tr>\n    <tr>\n      <th>105</th>\n      <td>Senegal</td>\n      <td>1</td>\n    </tr>\n    <tr>\n      <th>106</th>\n      <td>French Southern/Antarct</td>\n      <td>1</td>\n    </tr>\n    <tr>\n      <th>107</th>\n      <td>Rwanda</td>\n      <td>1</td>\n    </tr>\n    <tr>\n      <th>108</th>\n      <td>Bahamas</td>\n      <td>1</td>\n    </tr>\n  </tbody>\n</table>\n</div>"
     },
     "metadata": {},
     "execution_count": 60
    }
   ],
   "source": [
    "# those are counts for all US\n",
    "producers_df.tail()"
   ]
  },
  {
   "cell_type": "code",
   "execution_count": 61,
   "metadata": {},
   "outputs": [
    {
     "output_type": "execute_result",
     "data": {
      "text/plain": [
       "STU_ID                                A04151230\n",
       "BDAY                        1992-09-01 00:00:00\n",
       "COLLEGE                                      BU\n",
       "DEGREE                                      MBA\n",
       "MAJOR                                      BUSI\n",
       "LEGAL_NATN                             Pakistan\n",
       "STREET_LINES_1_2    House 3 51 Street 35 F-6/1 \n",
       "CITY_STATE_ZIP                 Islamabad, 44000\n",
       "ZIP                                       44000\n",
       "Name: 1, dtype: object"
      ]
     },
     "metadata": {},
     "execution_count": 61
    }
   ],
   "source": [
    "# all US\n",
    "inspect_df.loc[1]"
   ]
  },
  {
   "cell_type": "code",
   "execution_count": 46,
   "metadata": {},
   "outputs": [
    {
     "output_type": "execute_result",
     "data": {
      "text/plain": [
       "MAJOR  LEGAL_NATN  \n",
       "COSC   India           1337\n",
       "BUSI   Vietnam          196\n",
       "BNAP   India            130\n",
       "ACCT   Vietnam           63\n",
       "BNAP   Nigeria           61\n",
       "BUSI   Saudi Arabia      57\n",
       "       India             46\n",
       "BNAP   Mexico            45\n",
       "       Canada            40\n",
       "COSC   Nigeria           37\n",
       "ACCT   China             35\n",
       "BUAD   Nigeria           33\n",
       "       India             32\n",
       "BUSI   China             32\n",
       "COSC   Vietnam           31\n",
       "BNAP   Pakistan          26\n",
       "BUAD   Vietnam           25\n",
       "COSC   China             25\n",
       "BUSI   Nigeria           24\n",
       "KINE   India             22\n",
       "PADM   Nigeria           22\n",
       "GSCS   China             21\n",
       "BNAP   Philippines       20\n",
       "GSCS   Iran              19\n",
       "COSC   Pakistan          18\n",
       "COMM   Nigeria           17\n",
       "ACCT   Saudi Arabia      16\n",
       "ESCI   India             14\n",
       "ACCT   Nigeria           13\n",
       "BNAP   Colombia          13\n",
       "Name: COLLEGE, dtype: int64"
      ]
     },
     "metadata": {},
     "execution_count": 46
    }
   ],
   "source": [
    "inspect_df.groupby(['MAJOR','LEGAL_NATN'])['COLLEGE'].count().nlargest(30)\n"
   ]
  },
  {
   "cell_type": "code",
   "execution_count": 70,
   "metadata": {},
   "outputs": [],
   "source": [
    "import numpy as np\n",
    "import folium\n",
    "\n",
    "# create our own threshold_scale\n",
    "threshold_scale = np.linspace(producers_df['count'].min(), producers_df['count'].max(), 6, dtype=int)\n",
    "# convert the numpy array into a list\n",
    "threshold_scale = threshold_scale.tolist() \n",
    "# increase one unit the last value of the list\n",
    "threshold_scale[-1] = threshold_scale[-1] + 1 # make sure that the last value of the list is greater than the maximum immigration\n",
    "\n",
    "# file name - file is located in the working directory\n",
    "world_geo = r'world-countries.json' # geojson file\n",
    "\n",
    "# use this threshold_scale to create the choropleth map.\n",
    "m2 = folium.Map(location=[0, 0], zoom_start=2)\n",
    "m2.choropleth(\n",
    "    geo_data=world_geo,\n",
    "    data=producers_df,\n",
    "    columns=['country', 'count'],\n",
    "    key_on='feature.properties.name',\n",
    "    threshold_scale=threshold_scale,\n",
    "#    fill_color='YlGnBu',\n",
    "    fill_color='RdYlGn',\n",
    "    fill_opacity=0.7, \n",
    "    line_opacity=0.2,\n",
    "    legend_name='Number of applicants'\n",
    ")\n",
    "folium.LayerControl().add_to(m2)\n",
    "m2.save(outfile='world_apps_map.html')\n",
    "\n",
    "\n"
   ]
  },
  {
   "cell_type": "code",
   "execution_count": 74,
   "metadata": {},
   "outputs": [],
   "source": [
    "import numpy as np\n",
    "import folium\n",
    "\n",
    "producers_filtered_df = producers_df.query('country != \"India\"')\n",
    "\n",
    "# create our own threshold_scale\n",
    "threshold_scale = np.linspace(producers_filtered_df['count'].min(), producers_filtered_df['count'].max(), 6, dtype=int)\n",
    "# convert the numpy array into a list\n",
    "threshold_scale = threshold_scale.tolist() \n",
    "# increase one unit the last value of the list\n",
    "threshold_scale[-1] = threshold_scale[-1] + 1 # make sure that the last value of the list is greater than the maximum immigration\n",
    "\n",
    "# file name - file is located in the working directory\n",
    "world_geo = r'world-countries.json' # geojson file\n",
    "\n",
    "# use this threshold_scale to create the choropleth map.\n",
    "m3 = folium.Map(location=[0, 0], zoom_start=2)\n",
    "m3.choropleth(\n",
    "    geo_data=world_geo,\n",
    "    data=producers_filtered_df,\n",
    "    columns=['country', 'count'],\n",
    "    key_on='feature.properties.name',\n",
    "    threshold_scale=threshold_scale,\n",
    "#    fill_color='YlGnBu',\n",
    "    fill_color='RdYlGn',\n",
    "    fill_opacity=0.7, \n",
    "    line_opacity=0.2,\n",
    "    legend_name='Number of applicants'\n",
    ")\n",
    "folium.LayerControl().add_to(m3)\n",
    "m3.save(outfile='world-minus-india_apps_map.html')\n"
   ]
  },
  {
   "cell_type": "code",
   "execution_count": 100,
   "metadata": {},
   "outputs": [
    {
     "output_type": "execute_result",
     "data": {
      "text/plain": [
       "205520749"
      ]
     },
     "metadata": {},
     "execution_count": 100
    }
   ],
   "source": [
    "# PREPADRE GEO data\n",
    "\n",
    "# load GeoJSON\n",
    "with open('tx_texas_zip_codes_geo.min.json', 'r') as jsonFile:\n",
    "    data = json.load(jsonFile)\n",
    "tmp = data\n",
    "\n",
    "# remove ZIP codes not in our dataset\n",
    "geozips = []\n",
    "for i in range(len(tmp['features'])):\n",
    "    if tmp['features'][i]['properties']['ZCTA5CE10'] in list(geo_agg['ZIP'].unique()):\n",
    "        geozips.append(tmp['features'][i])\n",
    "\n",
    "# creating new JSON object\n",
    "new_json = dict.fromkeys(['type','features'])\n",
    "new_json['type'] = 'FeatureCollection'\n",
    "new_json['features'] = geozips\n",
    "\n",
    "# save JSON object as updated-file\n",
    "open(\"updated-tx-file.json\", \"w\").write(\n",
    "    json.dumps(new_json, sort_keys=True, indent=4, separators=(',', ': '))\n",
    ")"
   ]
  },
  {
   "cell_type": "code",
   "execution_count": 81,
   "metadata": {
    "collapsed": true
   },
   "outputs": [],
   "source": [
    "import folium\n",
    "\n",
    "# table = main table/data frame we read from (pandas DataFrame)\n",
    "# zips = column name where ZIP codes are (string)\n",
    "# mapped_feature = column name for feature we want to visualize (string)\n",
    "# add_text = any additional commentary to be added in the map legend (string)\n",
    "\n",
    "def create_map(table, zips, mapped_feature, add_text = ''):\n",
    "    # reading of the updated GeoJSON file\n",
    "    la_geo = r'updated-file.json'\n",
    "    # initiating a Folium map with LA's longitude and latitude\n",
    "    m = folium.Map(location = [27.8006, -97.3964], zoom_start = 7)\n",
    "    # creating a choropleth map\n",
    "    m.choropleth(\n",
    "        geo_data = la_geo,\n",
    "        fill_opacity = 0.7,\n",
    "        line_opacity = 0.2,\n",
    "        data = table,\n",
    "        # refers to which key within the GeoJSON to map the ZIP code to\n",
    "        key_on = 'feature.properties.ZCTA5CE10',\n",
    "        # first element contains location information, second element contains feature of interest\n",
    "        columns = [zips, mapped_feature],\n",
    "        fill_color = 'RdYlGn',\n",
    "        legend_name = (' ').join(mapped_feature.split('_')).title() + ' ' + add_text + ' Across LA'\n",
    "    )\n",
    "    folium.LayerControl().add_to(m)\n",
    "    # save map with filename based on the feature of interest\n",
    "    m.save(outfile = mapped_feature + '_map.html')"
   ]
  },
  {
   "cell_type": "code",
   "execution_count": 82,
   "metadata": {
    "collapsed": true
   },
   "outputs": [],
   "source": [
    "create_map(geo_agg, 'ZIP', 'count')"
   ]
  },
  {
   "cell_type": "code",
   "execution_count": 593,
   "metadata": {},
   "outputs": [],
   "source": [
    "# code before helper function was created\n",
    "\n",
    "# la_geo = r'updated-file.json'\n",
    "# m = folium.Map(location = [34.0522, -118.2437], zoom_start = 11)\n",
    "# m.choropleth(\n",
    "#     geo_data = la_geo,\n",
    "#     fill_opacity = 0.7,\n",
    "#     line_opacity=0.2,\n",
    "#     data = geo_agg,\n",
    "#     key_on = 'feature.properties.name',\n",
    "#     columns = ['facility_zip','average_score'],\n",
    "#     fill_color='RdYlGn',\n",
    "#     legend_name='Average Inspection Score',\n",
    "# )\n",
    "# folium.LayerControl().add_to(m)\n",
    "# m.save(outfile='average_score_map.html')"
   ]
  },
  {
   "cell_type": "code",
   "execution_count": 187,
   "metadata": {
    "collapsed": true
   },
   "outputs": [],
   "source": [
    "# code before helper function was created\n",
    "\n",
    "tx_geo = r'updated-tx-file.json'\n",
    "m2 = folium.Map(location = [27.8006, -97.3964], zoom_start = 10)\n",
    "m2.choropleth(\n",
    "     geo_data = tx_geo,\n",
    "     fill_opacity = 0.7,\n",
    "     line_opacity=0.2,\n",
    "     data = geo_agg,\n",
    "     key_on = 'feature.properties.ZCTA5CE10',\n",
    "     columns = ['ZIP','count'],\n",
    "     fill_color='RdYlGn',\n",
    "     legend_name='Number of Apps in Each Texas Zip Code',\n",
    ")\n",
    "folium.LayerControl().add_to(m2)\n",
    "m2.save(outfile='tx_apps_map.html')\n"
   ]
  },
  {
   "cell_type": "code",
   "execution_count": 186,
   "metadata": {},
   "outputs": [
    {
     "output_type": "stream",
     "name": "stdout",
     "text": [
      "        zip  count\n0     78412    747\n1     78414    687\n2     78413    443\n3     78418    309\n4     78411    194\n...     ...    ...\n999   78057      1\n1000  78934      1\n1001  78214      1\n1002  75932      1\n1003  75567      1\n\n[1004 rows x 2 columns]\n        zip  count\n1003  75567      1\n807   76798      1\n808   79916      1\n809   78535      1\n810   79124      1\n...     ...    ...\n14    78258     52\n13    78380     52\n11    78254     56\n10    77494     60\n9     78363     61\n\n[995 rows x 2 columns]\n"
     ]
    }
   ],
   "source": [
    "# lets drop the highest zip codes and have a better look at what is left\n",
    "# if the highest zip codes are in 79xxx and not 78xxx something is messed up\n",
    "\n",
    "# Lets start with TEXAS, use just texas\n",
    "tx_inspect_df = inspect_df.query('STATE == \"TX\"')\n",
    "tx_zip_counts = tx_inspect_df['ZIP'].value_counts().rename_axis('zip').reset_index(name='count')\n",
    "print(tx_zip_counts)\n",
    "\n",
    "# lets drop the top 9 zip codes in CC\n",
    "tx_zip_counts_filtered = tx_zip_counts.sort_values('count')\n",
    "tx_zip_counts_filtered = tx_zip_counts_filtered.drop(tx_zip_counts_filtered.tail(9).index)\n",
    "print(tx_zip_counts_filtered)\n",
    "\n",
    "tx_geo = r'updated-tx-file.json'\n",
    "m3 = folium.Map(location = [31.1352, -99.3351], zoom_start = 6)\n",
    "m3.choropleth(\n",
    "     geo_data = tx_geo,\n",
    "     fill_opacity = 0.7,\n",
    "     line_opacity=0.2,\n",
    "     data = tx_zip_counts_filtered,\n",
    "     key_on = 'feature.properties.ZCTA5CE10',\n",
    "     columns = ['zip','count'],\n",
    "     fill_color='RdYlGn',\n",
    "     legend_name='Number of Apps in Each Texas Zip Code minus CC',\n",
    ")\n",
    "folium.LayerControl().add_to(m3)\n",
    "m3.save(outfile='tx-minus-CC_apps_map.html')"
   ]
  },
  {
   "cell_type": "code",
   "execution_count": 136,
   "metadata": {},
   "outputs": [
    {
     "output_type": "stream",
     "name": "stdout",
     "text": [
      "        zip  count\n0     50014      5\n1      7306      4\n2     73071      4\n3     83201      3\n4     80537      3\n...     ...    ...\n1214  92865      1\n1215  92056      1\n1216  11422      1\n1217  40390      1\n1218  19401      1\n\n[1219 rows x 2 columns]\n"
     ]
    },
    {
     "output_type": "execute_result",
     "data": {
      "text/plain": [
       "27475915"
      ]
     },
     "metadata": {},
     "execution_count": 136
    }
   ],
   "source": [
    "#\n",
    "# CREATE US-WIDE GEO data\n",
    "#\n",
    "\n",
    "# Lets compare states other than texas\n",
    "us_inspect_df = inspect_df.query('STATE != \"TX\"')\n",
    "us_zip_counts = us_inspect_df['ZIP'].value_counts().rename_axis('zip').reset_index(name='count')\n",
    "print(us_zip_counts)\n",
    "\n",
    "# load GeoJSON\n",
    "with open('zcta5socrata.geo.json', 'r') as jsonFile:\n",
    "    data = json.load(jsonFile)\n",
    "tmp = data\n",
    "\n",
    "# remove ZIP codes not in our dataset\n",
    "geozips = []\n",
    "for i in range(len(tmp['features'])):\n",
    "#    if tmp['features'][i]['properties']['ZCTA5CE10'] in list(us_zip_counts['zip'].unique()):\n",
    "    if tmp['features'][i]['properties']['zcta5ce10'] in list(us_zip_counts['zip'].unique()):\n",
    "        geozips.append(tmp['features'][i])\n",
    "\n",
    "# creating new JSON object\n",
    "new_json = dict.fromkeys(['type','features'])\n",
    "new_json['type'] = 'FeatureCollection'\n",
    "new_json['features'] = geozips\n",
    "\n",
    "# save JSON object as updated-file\n",
    "open(\"updated-us-file.json\", \"w\").write(\n",
    "    json.dumps(new_json, sort_keys=True, indent=4, separators=(',', ': '))\n",
    ")\n"
   ]
  },
  {
   "cell_type": "code",
   "execution_count": 184,
   "metadata": {},
   "outputs": [],
   "source": [
    "#\n",
    "# Create MAP\n",
    "#\n",
    "\n",
    "# lets drop the top 9 zip codes in CC\n",
    "#tx_zip_counts_filtered = tx_zip_counts.sort_values('count')\n",
    "#tx_zip_counts_filtered = tx_zip_counts_filtered.drop(tx_zip_counts_filtered.tail(9).index)\n",
    "#print(tx_zip_counts_filtered)\n",
    "\n",
    "us_geo = r'updated-us-file.json'\n",
    "m4 = folium.Map(location = [37.1352, -99.3351], zoom_start = 5)\n",
    "m4.choropleth(\n",
    "     geo_data = us_geo,\n",
    "     fill_opacity = 0.7,\n",
    "     line_opacity=0.2,\n",
    "     data = us_zip_counts,\n",
    "     key_on = 'feature.properties.zcta5ce10',\n",
    "     columns = ['zip','count'],\n",
    "     fill_color='RdYlGn',\n",
    "     legend_name='Number of Apps in Each US Zip Code minus TX',\n",
    ")\n",
    "folium.LayerControl().add_to(m4)\n",
    "m4.save(outfile='US_apps_map.html')"
   ]
  },
  {
   "cell_type": "code",
   "execution_count": 171,
   "metadata": {},
   "outputs": [
    {
     "output_type": "stream",
     "name": "stdout",
     "text": [
      "             state  count\n0       California    224\n1          Florida    101\n2         New York     72\n3          Georgia     60\n4         Virginia     59\n5         Illinois     50\n6         Oklahoma     45\n7     Pennsylvania     44\n8   North Carolina     44\n9       New Jersey     40\n10         Arizona     39\n11      Washington     36\n12       Louisiana     33\n13        Maryland     31\n14        Missouri     31\n15       Tennessee     30\n16        Colorado     30\n17            Ohio     29\n18         Indiana     27\n19      New Mexico     27\n20  South Carolina     25\n21        Arkansas     25\n22         Alabama     24\n23        Michigan     23\n24     Mississippi     21\n25            Iowa     19\n26     Connecticut     18\n27            Utah     18\n28       Minnesota     17\n29   Massachusetts     17\n30       Wisconsin     13\n31          Nevada     13\n32        Kentucky     13\n33          Kansas     13\n34          Hawaii     11\n35          Oregon     10\n36           Maine      8\n37           Idaho      7\n38          Alaska      6\n39        Nebraska      6\n40   West Virginia      5\n41    South Dakota      5\n42        Delaware      4\n43    Rhode Island      4\n44         Vermont      2\n45   New Hampshire      2\n46    North Dakota      2\n47         Montana      1\n48         Wyoming      1\n"
     ]
    }
   ],
   "source": [
    "# Lets compare states other than texas\n",
    "# using recoded full state name\n",
    "us_states_inspect_df = inspect_df.query('STATE != \"TX\"')\n",
    "us_state_counts = us_states_inspect_df['STATE_FULL'].value_counts().rename_axis('state').reset_index(name='count')\n",
    "print(us_state_counts)\n",
    "\n",
    "#\n",
    "# Create MAP\n",
    "#\n",
    "\n",
    "us_states = r'us-states.geo.json'\n",
    "m5 = folium.Map(location = [53.58, -110.46], zoom_start = 4)\n",
    "m5.choropleth(\n",
    "     geo_data = us_states,\n",
    "     fill_opacity = 0.7,\n",
    "     line_opacity=0.2,\n",
    "     data = us_state_counts,\n",
    "     key_on = 'feature.properties.name',\n",
    "     columns = ['state','count'],\n",
    "     fill_color='RdYlGn',\n",
    "     legend_name='Number of Apps in Each US State minus Texas',\n",
    ")\n",
    "folium.LayerControl().add_to(m5)\n",
    "m5.save(outfile='US_states_apps_map.html')"
   ]
  },
  {
   "cell_type": "code",
   "execution_count": 595,
   "metadata": {},
   "outputs": [],
   "source": [
    "fac_grouped = inspect_vio_df.groupby(['facility_zip','facility_id'])\n",
    "fac_agg = fac_grouped.agg({'F044': np.mean,\n",
    "                        'F033': np.mean,\n",
    "                        'F035': np.mean,\n",
    "                        'F036': np.mean,\n",
    "                        'F040': np.mean,\n",
    "                        'F043': np.mean,\n",
    "                        'F037': np.mean,\n",
    "                        'F039': np.mean,\n",
    "                        'F030': np.mean,\n",
    "                        'F006': np.mean,\n",
    "                        'F014': np.mean,\n",
    "                        'F007': np.mean})"
   ]
  },
  {
   "cell_type": "code",
   "execution_count": 596,
   "metadata": {},
   "outputs": [
    {
     "data": {
      "text/html": [
       "<div>\n",
       "<style scoped>\n",
       "    .dataframe tbody tr th:only-of-type {\n",
       "        vertical-align: middle;\n",
       "    }\n",
       "\n",
       "    .dataframe tbody tr th {\n",
       "        vertical-align: top;\n",
       "    }\n",
       "\n",
       "    .dataframe thead th {\n",
       "        text-align: right;\n",
       "    }\n",
       "</style>\n",
       "<table border=\"1\" class=\"dataframe\">\n",
       "  <thead>\n",
       "    <tr style=\"text-align: right;\">\n",
       "      <th></th>\n",
       "      <th></th>\n",
       "      <th>F044</th>\n",
       "      <th>F033</th>\n",
       "      <th>F035</th>\n",
       "      <th>F036</th>\n",
       "      <th>F040</th>\n",
       "      <th>F043</th>\n",
       "      <th>F037</th>\n",
       "      <th>F039</th>\n",
       "      <th>F030</th>\n",
       "      <th>F006</th>\n",
       "      <th>F014</th>\n",
       "      <th>F007</th>\n",
       "    </tr>\n",
       "    <tr>\n",
       "      <th>facility_zip</th>\n",
       "      <th>facility_id</th>\n",
       "      <th></th>\n",
       "      <th></th>\n",
       "      <th></th>\n",
       "      <th></th>\n",
       "      <th></th>\n",
       "      <th></th>\n",
       "      <th></th>\n",
       "      <th></th>\n",
       "      <th></th>\n",
       "      <th></th>\n",
       "      <th></th>\n",
       "      <th></th>\n",
       "    </tr>\n",
       "  </thead>\n",
       "  <tbody>\n",
       "    <tr>\n",
       "      <th rowspan=\"10\" valign=\"top\">90001</th>\n",
       "      <th>FA0002183</th>\n",
       "      <td>6.0</td>\n",
       "      <td>3.0</td>\n",
       "      <td>4.0</td>\n",
       "      <td>1.0</td>\n",
       "      <td>1.0</td>\n",
       "      <td>3.0</td>\n",
       "      <td>5.0</td>\n",
       "      <td>0.0</td>\n",
       "      <td>2.0</td>\n",
       "      <td>1.0</td>\n",
       "      <td>0.0</td>\n",
       "      <td>2.0</td>\n",
       "    </tr>\n",
       "    <tr>\n",
       "      <th>FA0002627</th>\n",
       "      <td>1.0</td>\n",
       "      <td>0.0</td>\n",
       "      <td>0.0</td>\n",
       "      <td>0.0</td>\n",
       "      <td>0.0</td>\n",
       "      <td>0.0</td>\n",
       "      <td>0.0</td>\n",
       "      <td>0.0</td>\n",
       "      <td>0.0</td>\n",
       "      <td>0.0</td>\n",
       "      <td>0.0</td>\n",
       "      <td>0.0</td>\n",
       "    </tr>\n",
       "    <tr>\n",
       "      <th>FA0004443</th>\n",
       "      <td>1.0</td>\n",
       "      <td>1.0</td>\n",
       "      <td>1.0</td>\n",
       "      <td>0.0</td>\n",
       "      <td>0.0</td>\n",
       "      <td>1.0</td>\n",
       "      <td>0.0</td>\n",
       "      <td>0.0</td>\n",
       "      <td>0.0</td>\n",
       "      <td>0.0</td>\n",
       "      <td>0.0</td>\n",
       "      <td>0.0</td>\n",
       "    </tr>\n",
       "    <tr>\n",
       "      <th>FA0004465</th>\n",
       "      <td>0.0</td>\n",
       "      <td>0.0</td>\n",
       "      <td>0.0</td>\n",
       "      <td>0.0</td>\n",
       "      <td>0.0</td>\n",
       "      <td>0.0</td>\n",
       "      <td>0.0</td>\n",
       "      <td>0.0</td>\n",
       "      <td>0.0</td>\n",
       "      <td>0.0</td>\n",
       "      <td>0.0</td>\n",
       "      <td>0.0</td>\n",
       "    </tr>\n",
       "    <tr>\n",
       "      <th>FA0004529</th>\n",
       "      <td>3.0</td>\n",
       "      <td>1.0</td>\n",
       "      <td>0.0</td>\n",
       "      <td>0.0</td>\n",
       "      <td>0.0</td>\n",
       "      <td>2.0</td>\n",
       "      <td>0.0</td>\n",
       "      <td>0.0</td>\n",
       "      <td>0.0</td>\n",
       "      <td>0.0</td>\n",
       "      <td>0.0</td>\n",
       "      <td>0.0</td>\n",
       "    </tr>\n",
       "    <tr>\n",
       "      <th>FA0004739</th>\n",
       "      <td>6.0</td>\n",
       "      <td>3.0</td>\n",
       "      <td>2.0</td>\n",
       "      <td>0.0</td>\n",
       "      <td>1.0</td>\n",
       "      <td>3.0</td>\n",
       "      <td>2.0</td>\n",
       "      <td>1.0</td>\n",
       "      <td>2.0</td>\n",
       "      <td>2.0</td>\n",
       "      <td>1.0</td>\n",
       "      <td>0.0</td>\n",
       "    </tr>\n",
       "    <tr>\n",
       "      <th>FA0004873</th>\n",
       "      <td>1.0</td>\n",
       "      <td>0.0</td>\n",
       "      <td>1.0</td>\n",
       "      <td>0.0</td>\n",
       "      <td>0.0</td>\n",
       "      <td>0.0</td>\n",
       "      <td>0.0</td>\n",
       "      <td>0.0</td>\n",
       "      <td>0.0</td>\n",
       "      <td>0.0</td>\n",
       "      <td>0.0</td>\n",
       "      <td>0.0</td>\n",
       "    </tr>\n",
       "    <tr>\n",
       "      <th>FA0005313</th>\n",
       "      <td>4.0</td>\n",
       "      <td>0.0</td>\n",
       "      <td>2.0</td>\n",
       "      <td>2.0</td>\n",
       "      <td>1.0</td>\n",
       "      <td>4.0</td>\n",
       "      <td>0.0</td>\n",
       "      <td>0.0</td>\n",
       "      <td>0.0</td>\n",
       "      <td>2.0</td>\n",
       "      <td>0.0</td>\n",
       "      <td>0.0</td>\n",
       "    </tr>\n",
       "    <tr>\n",
       "      <th>FA0005764</th>\n",
       "      <td>7.0</td>\n",
       "      <td>3.0</td>\n",
       "      <td>4.0</td>\n",
       "      <td>0.0</td>\n",
       "      <td>2.0</td>\n",
       "      <td>5.0</td>\n",
       "      <td>1.0</td>\n",
       "      <td>3.0</td>\n",
       "      <td>4.0</td>\n",
       "      <td>2.0</td>\n",
       "      <td>1.0</td>\n",
       "      <td>1.0</td>\n",
       "    </tr>\n",
       "    <tr>\n",
       "      <th>FA0005770</th>\n",
       "      <td>3.0</td>\n",
       "      <td>1.0</td>\n",
       "      <td>3.0</td>\n",
       "      <td>3.0</td>\n",
       "      <td>3.0</td>\n",
       "      <td>2.0</td>\n",
       "      <td>0.0</td>\n",
       "      <td>0.0</td>\n",
       "      <td>1.0</td>\n",
       "      <td>1.0</td>\n",
       "      <td>1.0</td>\n",
       "      <td>0.0</td>\n",
       "    </tr>\n",
       "  </tbody>\n",
       "</table>\n",
       "</div>"
      ],
      "text/plain": [
       "                          F044  F033  F035  F036  F040  F043  F037  F039  \\\n",
       "facility_zip facility_id                                                   \n",
       "90001        FA0002183     6.0   3.0   4.0   1.0   1.0   3.0   5.0   0.0   \n",
       "             FA0002627     1.0   0.0   0.0   0.0   0.0   0.0   0.0   0.0   \n",
       "             FA0004443     1.0   1.0   1.0   0.0   0.0   1.0   0.0   0.0   \n",
       "             FA0004465     0.0   0.0   0.0   0.0   0.0   0.0   0.0   0.0   \n",
       "             FA0004529     3.0   1.0   0.0   0.0   0.0   2.0   0.0   0.0   \n",
       "             FA0004739     6.0   3.0   2.0   0.0   1.0   3.0   2.0   1.0   \n",
       "             FA0004873     1.0   0.0   1.0   0.0   0.0   0.0   0.0   0.0   \n",
       "             FA0005313     4.0   0.0   2.0   2.0   1.0   4.0   0.0   0.0   \n",
       "             FA0005764     7.0   3.0   4.0   0.0   2.0   5.0   1.0   3.0   \n",
       "             FA0005770     3.0   1.0   3.0   3.0   3.0   2.0   0.0   0.0   \n",
       "\n",
       "                          F030  F006  F014  F007  \n",
       "facility_zip facility_id                          \n",
       "90001        FA0002183     2.0   1.0   0.0   2.0  \n",
       "             FA0002627     0.0   0.0   0.0   0.0  \n",
       "             FA0004443     0.0   0.0   0.0   0.0  \n",
       "             FA0004465     0.0   0.0   0.0   0.0  \n",
       "             FA0004529     0.0   0.0   0.0   0.0  \n",
       "             FA0004739     2.0   2.0   1.0   0.0  \n",
       "             FA0004873     0.0   0.0   0.0   0.0  \n",
       "             FA0005313     0.0   2.0   0.0   0.0  \n",
       "             FA0005764     4.0   2.0   1.0   1.0  \n",
       "             FA0005770     1.0   1.0   1.0   0.0  "
      ]
     },
     "execution_count": 596,
     "metadata": {},
     "output_type": "execute_result"
    }
   ],
   "source": [
    "fac_agg.head(10)"
   ]
  },
  {
   "cell_type": "code",
   "execution_count": 597,
   "metadata": {},
   "outputs": [],
   "source": [
    "fac_agg = fac_agg.groupby(level=0).mean()\n",
    "fac_agg.reset_index(inplace=True)"
   ]
  },
  {
   "cell_type": "code",
   "execution_count": 598,
   "metadata": {},
   "outputs": [
    {
     "data": {
      "text/html": [
       "<div>\n",
       "<style scoped>\n",
       "    .dataframe tbody tr th:only-of-type {\n",
       "        vertical-align: middle;\n",
       "    }\n",
       "\n",
       "    .dataframe tbody tr th {\n",
       "        vertical-align: top;\n",
       "    }\n",
       "\n",
       "    .dataframe thead th {\n",
       "        text-align: right;\n",
       "    }\n",
       "</style>\n",
       "<table border=\"1\" class=\"dataframe\">\n",
       "  <thead>\n",
       "    <tr style=\"text-align: right;\">\n",
       "      <th></th>\n",
       "      <th>facility_zip</th>\n",
       "      <th>F044</th>\n",
       "      <th>F033</th>\n",
       "      <th>F035</th>\n",
       "      <th>F036</th>\n",
       "      <th>F040</th>\n",
       "      <th>F043</th>\n",
       "      <th>F037</th>\n",
       "      <th>F039</th>\n",
       "      <th>F030</th>\n",
       "      <th>F006</th>\n",
       "      <th>F014</th>\n",
       "      <th>F007</th>\n",
       "    </tr>\n",
       "  </thead>\n",
       "  <tbody>\n",
       "    <tr>\n",
       "      <th>0</th>\n",
       "      <td>90001</td>\n",
       "      <td>1.717391</td>\n",
       "      <td>1.257246</td>\n",
       "      <td>1.184783</td>\n",
       "      <td>0.655797</td>\n",
       "      <td>0.637681</td>\n",
       "      <td>1.054348</td>\n",
       "      <td>0.782609</td>\n",
       "      <td>0.398551</td>\n",
       "      <td>0.492754</td>\n",
       "      <td>1.090580</td>\n",
       "      <td>0.387681</td>\n",
       "      <td>0.554348</td>\n",
       "    </tr>\n",
       "    <tr>\n",
       "      <th>1</th>\n",
       "      <td>90002</td>\n",
       "      <td>1.724638</td>\n",
       "      <td>1.318841</td>\n",
       "      <td>0.753623</td>\n",
       "      <td>0.434783</td>\n",
       "      <td>0.492754</td>\n",
       "      <td>0.971014</td>\n",
       "      <td>0.536232</td>\n",
       "      <td>0.318841</td>\n",
       "      <td>0.434783</td>\n",
       "      <td>0.942029</td>\n",
       "      <td>0.188406</td>\n",
       "      <td>0.376812</td>\n",
       "    </tr>\n",
       "    <tr>\n",
       "      <th>2</th>\n",
       "      <td>90003</td>\n",
       "      <td>1.728261</td>\n",
       "      <td>1.695652</td>\n",
       "      <td>1.282609</td>\n",
       "      <td>0.666667</td>\n",
       "      <td>0.670290</td>\n",
       "      <td>1.387681</td>\n",
       "      <td>0.630435</td>\n",
       "      <td>0.369565</td>\n",
       "      <td>0.663043</td>\n",
       "      <td>1.112319</td>\n",
       "      <td>0.380435</td>\n",
       "      <td>0.684783</td>\n",
       "    </tr>\n",
       "    <tr>\n",
       "      <th>3</th>\n",
       "      <td>90004</td>\n",
       "      <td>2.729242</td>\n",
       "      <td>2.649819</td>\n",
       "      <td>1.888087</td>\n",
       "      <td>1.595668</td>\n",
       "      <td>1.169675</td>\n",
       "      <td>1.472924</td>\n",
       "      <td>0.794224</td>\n",
       "      <td>0.631769</td>\n",
       "      <td>1.000000</td>\n",
       "      <td>0.953069</td>\n",
       "      <td>0.985560</td>\n",
       "      <td>0.541516</td>\n",
       "    </tr>\n",
       "    <tr>\n",
       "      <th>4</th>\n",
       "      <td>90005</td>\n",
       "      <td>2.940397</td>\n",
       "      <td>2.986755</td>\n",
       "      <td>2.125828</td>\n",
       "      <td>1.635762</td>\n",
       "      <td>1.745033</td>\n",
       "      <td>2.099338</td>\n",
       "      <td>1.463576</td>\n",
       "      <td>2.105960</td>\n",
       "      <td>1.480132</td>\n",
       "      <td>1.122517</td>\n",
       "      <td>1.354305</td>\n",
       "      <td>0.880795</td>\n",
       "    </tr>\n",
       "  </tbody>\n",
       "</table>\n",
       "</div>"
      ],
      "text/plain": [
       "  facility_zip      F044      F033      F035      F036      F040      F043  \\\n",
       "0        90001  1.717391  1.257246  1.184783  0.655797  0.637681  1.054348   \n",
       "1        90002  1.724638  1.318841  0.753623  0.434783  0.492754  0.971014   \n",
       "2        90003  1.728261  1.695652  1.282609  0.666667  0.670290  1.387681   \n",
       "3        90004  2.729242  2.649819  1.888087  1.595668  1.169675  1.472924   \n",
       "4        90005  2.940397  2.986755  2.125828  1.635762  1.745033  2.099338   \n",
       "\n",
       "       F037      F039      F030      F006      F014      F007  \n",
       "0  0.782609  0.398551  0.492754  1.090580  0.387681  0.554348  \n",
       "1  0.536232  0.318841  0.434783  0.942029  0.188406  0.376812  \n",
       "2  0.630435  0.369565  0.663043  1.112319  0.380435  0.684783  \n",
       "3  0.794224  0.631769  1.000000  0.953069  0.985560  0.541516  \n",
       "4  1.463576  2.105960  1.480132  1.122517  1.354305  0.880795  "
      ]
     },
     "execution_count": 598,
     "metadata": {},
     "output_type": "execute_result"
    }
   ],
   "source": [
    "fac_agg.head()"
   ]
  },
  {
   "cell_type": "code",
   "execution_count": 599,
   "metadata": {
    "collapsed": true
   },
   "outputs": [],
   "source": [
    "def count_distribution(df,location,subgroup):\n",
    "    group_counts = pd.DataFrame(df.groupby([location,subgroup]).size().unstack(1))\n",
    "    group_counts.reset_index(inplace = True)\n",
    "    return group_counts\n",
    "\n",
    "def subgroup_distribution(df,location,subgroup):\n",
    "    group = df.groupby([location,subgroup]).size()\n",
    "    group_pcts = group.groupby(level=0).apply(lambda x: 100 * x/float(x.sum()))\n",
    "    group_pcts = pd.DataFrame(group_pcts.unstack(1))\n",
    "    group_pcts.reset_index(inplace=True)\n",
    "    return group_pcts"
   ]
  },
  {
   "cell_type": "code",
   "execution_count": 600,
   "metadata": {},
   "outputs": [],
   "source": [
    "seats_counts = count_distribution(inspect_vio_df, 'facility_zip', 'seats')\n",
    "est_type_counts = count_distribution(inspect_vio_df, 'facility_zip', 'est_type')\n",
    "risk_counts = count_distribution(inspect_vio_df, 'facility_zip', 'risk')"
   ]
  },
  {
   "cell_type": "code",
   "execution_count": 601,
   "metadata": {},
   "outputs": [],
   "source": [
    "# before helper function was written\n",
    "\n",
    "# seat_counts = pd.DataFrame(inspect_vio_df.groupby(['facility_zip', 'seats']).size().unstack(1))\n",
    "# seat_counts.reset_index(inplace=True)\n",
    "# seat_counts.head()"
   ]
  },
  {
   "cell_type": "code",
   "execution_count": 602,
   "metadata": {
    "collapsed": true
   },
   "outputs": [],
   "source": [
    "# risk_group = inspect_vio_df.groupby(['facility_zip','risk']).size()"
   ]
  },
  {
   "cell_type": "code",
   "execution_count": 603,
   "metadata": {},
   "outputs": [],
   "source": [
    "# risk_pcts = risk_group.groupby(level=0).apply(lambda x: 100 * x/float(x.sum()))"
   ]
  },
  {
   "cell_type": "code",
   "execution_count": 604,
   "metadata": {},
   "outputs": [],
   "source": [
    "# risk_pcts = pd.DataFrame(risk_pcts.unstack(1))\n",
    "# risk_pcts.reset_index(inplace=True)\n",
    "# risk_pcts"
   ]
  },
  {
   "cell_type": "code",
   "execution_count": 605,
   "metadata": {},
   "outputs": [],
   "source": [
    "seats_dist = subgroup_distribution(inspect_vio_df, 'facility_zip', 'seats')\n",
    "est_type_dist = subgroup_distribution(inspect_vio_df, 'facility_zip', 'est_type')\n",
    "risk_dist = subgroup_distribution(inspect_vio_df, 'facility_zip', 'risk')"
   ]
  },
  {
   "cell_type": "code",
   "execution_count": 606,
   "metadata": {},
   "outputs": [
    {
     "data": {
      "text/html": [
       "<div>\n",
       "<style scoped>\n",
       "    .dataframe tbody tr th:only-of-type {\n",
       "        vertical-align: middle;\n",
       "    }\n",
       "\n",
       "    .dataframe tbody tr th {\n",
       "        vertical-align: top;\n",
       "    }\n",
       "\n",
       "    .dataframe thead th {\n",
       "        text-align: right;\n",
       "    }\n",
       "</style>\n",
       "<table border=\"1\" class=\"dataframe\">\n",
       "  <thead>\n",
       "    <tr style=\"text-align: right;\">\n",
       "      <th>seats</th>\n",
       "      <th>facility_zip</th>\n",
       "      <th>0-30</th>\n",
       "      <th>151 +</th>\n",
       "      <th>2,000+ SF</th>\n",
       "      <th>25-1,999 SF</th>\n",
       "      <th>31-60</th>\n",
       "      <th>61-150</th>\n",
       "    </tr>\n",
       "  </thead>\n",
       "  <tbody>\n",
       "    <tr>\n",
       "      <th>0</th>\n",
       "      <td>90001</td>\n",
       "      <td>45.259042</td>\n",
       "      <td>2.346041</td>\n",
       "      <td>8.308895</td>\n",
       "      <td>30.009775</td>\n",
       "      <td>12.805474</td>\n",
       "      <td>1.270772</td>\n",
       "    </tr>\n",
       "    <tr>\n",
       "      <th>1</th>\n",
       "      <td>90002</td>\n",
       "      <td>32.894737</td>\n",
       "      <td>2.631579</td>\n",
       "      <td>14.473684</td>\n",
       "      <td>41.228070</td>\n",
       "      <td>3.947368</td>\n",
       "      <td>4.824561</td>\n",
       "    </tr>\n",
       "    <tr>\n",
       "      <th>2</th>\n",
       "      <td>90003</td>\n",
       "      <td>46.936656</td>\n",
       "      <td>NaN</td>\n",
       "      <td>5.815161</td>\n",
       "      <td>38.733126</td>\n",
       "      <td>5.399792</td>\n",
       "      <td>3.115265</td>\n",
       "    </tr>\n",
       "    <tr>\n",
       "      <th>3</th>\n",
       "      <td>90004</td>\n",
       "      <td>36.737926</td>\n",
       "      <td>1.979414</td>\n",
       "      <td>6.571655</td>\n",
       "      <td>11.955661</td>\n",
       "      <td>24.386382</td>\n",
       "      <td>18.368963</td>\n",
       "    </tr>\n",
       "    <tr>\n",
       "      <th>4</th>\n",
       "      <td>90005</td>\n",
       "      <td>27.384196</td>\n",
       "      <td>5.858311</td>\n",
       "      <td>4.019074</td>\n",
       "      <td>12.602180</td>\n",
       "      <td>31.471390</td>\n",
       "      <td>18.664850</td>\n",
       "    </tr>\n",
       "  </tbody>\n",
       "</table>\n",
       "</div>"
      ],
      "text/plain": [
       "seats facility_zip       0-30    151 +   2,000+ SF  25-1,999 SF      31-60  \\\n",
       "0            90001  45.259042  2.346041   8.308895    30.009775  12.805474   \n",
       "1            90002  32.894737  2.631579  14.473684    41.228070   3.947368   \n",
       "2            90003  46.936656       NaN   5.815161    38.733126   5.399792   \n",
       "3            90004  36.737926  1.979414   6.571655    11.955661  24.386382   \n",
       "4            90005  27.384196  5.858311   4.019074    12.602180  31.471390   \n",
       "\n",
       "seats     61-150  \n",
       "0       1.270772  \n",
       "1       4.824561  \n",
       "2       3.115265  \n",
       "3      18.368963  \n",
       "4      18.664850  "
      ]
     },
     "execution_count": 606,
     "metadata": {},
     "output_type": "execute_result"
    }
   ],
   "source": [
    "seats_dist.head()"
   ]
  },
  {
   "cell_type": "code",
   "execution_count": 607,
   "metadata": {},
   "outputs": [],
   "source": [
    "create_map(seats_counts, 'facility_zip', '0-30', 'Occupancy Facility Total Count')\n",
    "create_map(seats_counts, 'facility_zip', '2,000+ SF', 'Occupancy Facility Total Count')"
   ]
  },
  {
   "cell_type": "code",
   "execution_count": 620,
   "metadata": {
    "collapsed": true
   },
   "outputs": [],
   "source": [
    "create_map(seats_dist, 'facility_zip', '0-30', 'Occupancy Concentration')\n",
    "create_map(seats_dist, 'facility_zip', '2,000+ SF', 'Occupancy Concentration')"
   ]
  },
  {
   "cell_type": "code",
   "execution_count": 626,
   "metadata": {},
   "outputs": [],
   "source": [
    "create_map(seats_counts, 'facility_zip', '0-30', 'Occupancy Count')\n",
    "create_map(seats_counts, 'facility_zip', '31-60', 'Occupancy Count')\n",
    "create_map(seats_counts, 'facility_zip', '61-150', 'Occupancy Count')"
   ]
  },
  {
   "cell_type": "code",
   "execution_count": 608,
   "metadata": {},
   "outputs": [
    {
     "data": {
      "text/html": [
       "<div>\n",
       "<style scoped>\n",
       "    .dataframe tbody tr th:only-of-type {\n",
       "        vertical-align: middle;\n",
       "    }\n",
       "\n",
       "    .dataframe tbody tr th {\n",
       "        vertical-align: top;\n",
       "    }\n",
       "\n",
       "    .dataframe thead th {\n",
       "        text-align: right;\n",
       "    }\n",
       "</style>\n",
       "<table border=\"1\" class=\"dataframe\">\n",
       "  <thead>\n",
       "    <tr style=\"text-align: right;\">\n",
       "      <th>est_type</th>\n",
       "      <th>facility_zip</th>\n",
       "      <th>FOOD MKT RETAIL</th>\n",
       "      <th>RESTAURANT</th>\n",
       "    </tr>\n",
       "  </thead>\n",
       "  <tbody>\n",
       "    <tr>\n",
       "      <th>0</th>\n",
       "      <td>90001</td>\n",
       "      <td>38.318671</td>\n",
       "      <td>61.681329</td>\n",
       "    </tr>\n",
       "    <tr>\n",
       "      <th>1</th>\n",
       "      <td>90002</td>\n",
       "      <td>55.701754</td>\n",
       "      <td>44.298246</td>\n",
       "    </tr>\n",
       "    <tr>\n",
       "      <th>2</th>\n",
       "      <td>90003</td>\n",
       "      <td>44.548287</td>\n",
       "      <td>55.451713</td>\n",
       "    </tr>\n",
       "    <tr>\n",
       "      <th>3</th>\n",
       "      <td>90004</td>\n",
       "      <td>18.527316</td>\n",
       "      <td>81.472684</td>\n",
       "    </tr>\n",
       "    <tr>\n",
       "      <th>4</th>\n",
       "      <td>90005</td>\n",
       "      <td>16.621253</td>\n",
       "      <td>83.378747</td>\n",
       "    </tr>\n",
       "  </tbody>\n",
       "</table>\n",
       "</div>"
      ],
      "text/plain": [
       "est_type facility_zip  FOOD MKT RETAIL  RESTAURANT\n",
       "0               90001        38.318671   61.681329\n",
       "1               90002        55.701754   44.298246\n",
       "2               90003        44.548287   55.451713\n",
       "3               90004        18.527316   81.472684\n",
       "4               90005        16.621253   83.378747"
      ]
     },
     "execution_count": 608,
     "metadata": {},
     "output_type": "execute_result"
    }
   ],
   "source": [
    "est_type_dist.head()"
   ]
  },
  {
   "cell_type": "code",
   "execution_count": 609,
   "metadata": {},
   "outputs": [],
   "source": [
    "create_map(est_type_counts, 'facility_zip', 'FOOD MKT RETAIL', ' Total Count')\n",
    "create_map(est_type_counts, 'facility_zip', 'RESTAURANT', ' Total Count')"
   ]
  },
  {
   "cell_type": "code",
   "execution_count": 610,
   "metadata": {},
   "outputs": [
    {
     "data": {
      "text/html": [
       "<div>\n",
       "<style scoped>\n",
       "    .dataframe tbody tr th:only-of-type {\n",
       "        vertical-align: middle;\n",
       "    }\n",
       "\n",
       "    .dataframe tbody tr th {\n",
       "        vertical-align: top;\n",
       "    }\n",
       "\n",
       "    .dataframe thead th {\n",
       "        text-align: right;\n",
       "    }\n",
       "</style>\n",
       "<table border=\"1\" class=\"dataframe\">\n",
       "  <thead>\n",
       "    <tr style=\"text-align: right;\">\n",
       "      <th>risk</th>\n",
       "      <th>facility_zip</th>\n",
       "      <th>HIGH RISK</th>\n",
       "      <th>LOW RISK</th>\n",
       "      <th>MODERATE RISK</th>\n",
       "    </tr>\n",
       "  </thead>\n",
       "  <tbody>\n",
       "    <tr>\n",
       "      <th>0</th>\n",
       "      <td>90001</td>\n",
       "      <td>60.410557</td>\n",
       "      <td>19.550342</td>\n",
       "      <td>20.039101</td>\n",
       "    </tr>\n",
       "    <tr>\n",
       "      <th>1</th>\n",
       "      <td>90002</td>\n",
       "      <td>41.228070</td>\n",
       "      <td>28.947368</td>\n",
       "      <td>29.824561</td>\n",
       "    </tr>\n",
       "    <tr>\n",
       "      <th>2</th>\n",
       "      <td>90003</td>\n",
       "      <td>49.428868</td>\n",
       "      <td>24.195223</td>\n",
       "      <td>26.375909</td>\n",
       "    </tr>\n",
       "    <tr>\n",
       "      <th>3</th>\n",
       "      <td>90004</td>\n",
       "      <td>69.358670</td>\n",
       "      <td>12.430721</td>\n",
       "      <td>18.210610</td>\n",
       "    </tr>\n",
       "    <tr>\n",
       "      <th>4</th>\n",
       "      <td>90005</td>\n",
       "      <td>72.207084</td>\n",
       "      <td>11.989101</td>\n",
       "      <td>15.803815</td>\n",
       "    </tr>\n",
       "  </tbody>\n",
       "</table>\n",
       "</div>"
      ],
      "text/plain": [
       "risk facility_zip  HIGH RISK   LOW RISK  MODERATE RISK\n",
       "0           90001  60.410557  19.550342      20.039101\n",
       "1           90002  41.228070  28.947368      29.824561\n",
       "2           90003  49.428868  24.195223      26.375909\n",
       "3           90004  69.358670  12.430721      18.210610\n",
       "4           90005  72.207084  11.989101      15.803815"
      ]
     },
     "execution_count": 610,
     "metadata": {},
     "output_type": "execute_result"
    }
   ],
   "source": [
    "risk_dist.head()"
   ]
  },
  {
   "cell_type": "code",
   "execution_count": 618,
   "metadata": {
    "collapsed": true
   },
   "outputs": [],
   "source": [
    "create_map(risk_counts, 'facility_zip', 'LOW RISK', ' Facilities Total Count')\n",
    "create_map(risk_counts, 'facility_zip', 'HIGH RISK', ' Facilities Total Count')"
   ]
  },
  {
   "cell_type": "code",
   "execution_count": 617,
   "metadata": {},
   "outputs": [
    {
     "data": {
      "text/html": [
       "<div>\n",
       "<style scoped>\n",
       "    .dataframe tbody tr th:only-of-type {\n",
       "        vertical-align: middle;\n",
       "    }\n",
       "\n",
       "    .dataframe tbody tr th {\n",
       "        vertical-align: top;\n",
       "    }\n",
       "\n",
       "    .dataframe thead th {\n",
       "        text-align: right;\n",
       "    }\n",
       "</style>\n",
       "<table border=\"1\" class=\"dataframe\">\n",
       "  <thead>\n",
       "    <tr style=\"text-align: right;\">\n",
       "      <th>est_type</th>\n",
       "      <th>facility_zip</th>\n",
       "      <th>FOOD MKT RETAIL</th>\n",
       "      <th>RESTAURANT</th>\n",
       "    </tr>\n",
       "  </thead>\n",
       "  <tbody>\n",
       "    <tr>\n",
       "      <th>0</th>\n",
       "      <td>90001</td>\n",
       "      <td>392.0</td>\n",
       "      <td>631.0</td>\n",
       "    </tr>\n",
       "    <tr>\n",
       "      <th>1</th>\n",
       "      <td>90002</td>\n",
       "      <td>127.0</td>\n",
       "      <td>101.0</td>\n",
       "    </tr>\n",
       "    <tr>\n",
       "      <th>2</th>\n",
       "      <td>90003</td>\n",
       "      <td>429.0</td>\n",
       "      <td>534.0</td>\n",
       "    </tr>\n",
       "    <tr>\n",
       "      <th>3</th>\n",
       "      <td>90004</td>\n",
       "      <td>234.0</td>\n",
       "      <td>1029.0</td>\n",
       "    </tr>\n",
       "    <tr>\n",
       "      <th>4</th>\n",
       "      <td>90005</td>\n",
       "      <td>244.0</td>\n",
       "      <td>1224.0</td>\n",
       "    </tr>\n",
       "  </tbody>\n",
       "</table>\n",
       "</div>"
      ],
      "text/plain": [
       "est_type facility_zip  FOOD MKT RETAIL  RESTAURANT\n",
       "0               90001            392.0       631.0\n",
       "1               90002            127.0       101.0\n",
       "2               90003            429.0       534.0\n",
       "3               90004            234.0      1029.0\n",
       "4               90005            244.0      1224.0"
      ]
     },
     "execution_count": 617,
     "metadata": {},
     "output_type": "execute_result"
    }
   ],
   "source": [
    "est_type_counts.head()"
   ]
  },
  {
   "cell_type": "code",
   "execution_count": 654,
   "metadata": {},
   "outputs": [],
   "source": [
    "create_map(fac_agg, 'facility_zip', 'F044', 'Average Violation of Floor, Walls, and Ceiling Maintenance and Condition')\n",
    "create_map(fac_agg, 'facility_zip', 'F033', 'Average Violation of Nonfood Equipment Cleanliness and Maintenance')\n",
    "create_map(fac_agg, 'facility_zip', 'F035', 'Average Violation of Equiptment/Utensils Cleanliness and Maintenance')\n",
    "create_map(fac_agg, 'facility_zip', 'F036', 'Average Violation of Equiptment/Utensils/Linens Storage and Use')\n",
    "create_map(fac_agg, 'facility_zip', 'F040', 'Average Violation of Plumbing')\n",
    "create_map(fac_agg, 'facility_zip', 'F014', 'Average Violation of Surface Cleaning and Sanitization')"
   ]
  },
  {
   "cell_type": "code",
   "execution_count": 656,
   "metadata": {},
   "outputs": [
    {
     "data": {
      "text/plain": [
       "'# 14. Food contact surfaces: clean and sanitized'"
      ]
     },
     "execution_count": 656,
     "metadata": {},
     "output_type": "execute_result"
    }
   ],
   "source": [
    "violation_dict['F014']"
   ]
  },
  {
   "cell_type": "code",
   "execution_count": null,
   "metadata": {
    "collapsed": true
   },
   "outputs": [],
   "source": []
  }
 ],
 "metadata": {
  "kernelspec": {
   "display_name": "Python 3",
   "language": "python",
   "name": "python3"
  },
  "language_info": {
   "codemirror_mode": {
    "name": "ipython",
    "version": 3
   },
   "file_extension": ".py",
   "mimetype": "text/x-python",
   "name": "python",
   "nbconvert_exporter": "python",
   "pygments_lexer": "ipython3",
   "version": "3.8.3-final"
  }
 },
 "nbformat": 4,
 "nbformat_minor": 2
}